{
 "cells": [
  {
   "cell_type": "code",
   "execution_count": 14,
   "metadata": {},
   "outputs": [
    {
     "name": "stdout",
     "output_type": "stream",
     "text": [
      "B\n"
     ]
    }
   ],
   "source": [
    "\n",
    "#Dictionary\n",
    "def get_grade2(score) :\n",
    "    return{\n",
    "        90 <= score <= 100 : \"A\",\n",
    "        80 <= score < 90 : \"B\",\n",
    "        70 <= score < 80 : \"C\",\n",
    "        60 <= score < 70 : \"D\",\n",
    "        score < 60 : \"F\"\n",
    "    }.get(True,\"Invalid score\")\n",
    "#get takes care that if input is weird he will write Invalid score\n",
    "print(get_grade2(85))"
   ]
  }
 ],
 "metadata": {
  "kernelspec": {
   "display_name": "Python 3",
   "language": "python",
   "name": "python3"
  },
  "language_info": {
   "codemirror_mode": {
    "name": "ipython",
    "version": 3
   },
   "file_extension": ".py",
   "mimetype": "text/x-python",
   "name": "python",
   "nbconvert_exporter": "python",
   "pygments_lexer": "ipython3",
   "version": "3.11.4"
  }
 },
 "nbformat": 4,
 "nbformat_minor": 2
}
