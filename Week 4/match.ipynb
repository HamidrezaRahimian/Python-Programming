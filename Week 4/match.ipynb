{
 "cells": [
  {
   "cell_type": "code",
   "execution_count": null,
   "metadata": {},
   "outputs": [],
   "source": [
    "def get_type (value):\n",
    "    match (type(value).__name__):\n",
    "        case \"int\":\n",
    "            return \"Integer\"\n",
    "        case \"float\":\n",
    "            return \"Float\"\n",
    "        case \"str\":\n",
    "            return \"String\"\n",
    "      #  this page is not completed!!!!!!!!!!!!!!!!!!!!!!!!!!!!!!!!!!!"
   ]
  }
 ],
 "metadata": {
  "language_info": {
   "name": "python"
  }
 },
 "nbformat": 4,
 "nbformat_minor": 2
}
