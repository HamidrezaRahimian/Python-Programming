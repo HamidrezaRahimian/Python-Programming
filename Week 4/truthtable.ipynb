{
 "cells": [
  {
   "cell_type": "code",
   "execution_count": 15,
   "metadata": {},
   "outputs": [
    {
     "name": "stdout",
     "output_type": "stream",
     "text": [
      " a | b | a XOR b\n",
      "________________\n",
      " 1 | 1 | 0\n",
      " 1 | 0 | 1\n",
      " 0 | 1 | 1\n",
      " 0 | 0 | 0\n"
     ]
    }
   ],
   "source": [
    "def XOR (a,b) :\n",
    "    return{\n",
    "        a == 1 and b ==1 : \"0\",\n",
    "        a == 1 and b ==0 : \"1\",\n",
    "        a == 0 and b ==1 : \"1\",\n",
    "        a == 0 and b ==0 : \"0\",\n",
    "    }.get(True,\"Invalid score\")\n",
    "\n",
    "\n",
    "print(\" a | b | a XOR b\")\n",
    "print(\"________________\")\n",
    "print(f\" 1 | 1 | {XOR(1,1)}\")\n",
    "print(f\" 1 | 0 | {XOR(1,0)}\")\n",
    "print(f\" 0 | 1 | {XOR(0,1)}\")\n",
    "print(f\" 0 | 0 | {XOR(0,0)}\")\n"
   ]
  },
  {
   "cell_type": "code",
   "execution_count": null,
   "metadata": {},
   "outputs": [],
   "source": []
  }
 ],
 "metadata": {
  "kernelspec": {
   "display_name": "Python 3",
   "language": "python",
   "name": "python3"
  },
  "language_info": {
   "codemirror_mode": {
    "name": "ipython",
    "version": 3
   },
   "file_extension": ".py",
   "mimetype": "text/x-python",
   "name": "python",
   "nbconvert_exporter": "python",
   "pygments_lexer": "ipython3",
   "version": "3.11.4"
  }
 },
 "nbformat": 4,
 "nbformat_minor": 2
}
