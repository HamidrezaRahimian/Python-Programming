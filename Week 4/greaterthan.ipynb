{
 "cells": [
  {
   "cell_type": "code",
   "execution_count": 2,
   "metadata": {},
   "outputs": [
    {
     "name": "stdout",
     "output_type": "stream",
     "text": [
      "B\n",
      "D\n"
     ]
    }
   ],
   "source": [
    "\n",
    "def get_grade (score) :\n",
    "    if score >= 90 :\n",
    "        return \"A\"\n",
    "    elif score >= 80 :\n",
    "        return \"B\"\n",
    "    elif score >= 70 :\n",
    "        return \"C\"\n",
    "    \n",
    "    elif score >= 60 :\n",
    "        return \"D\"\n",
    "    else :\n",
    "        return \"F\"\n",
    "    \n",
    "print(get_grade(85))\n",
    "\n",
    "#reihenfolge ist richtig!!!!!!!!!!!\n",
    "\n",
    "\n",
    "\n",
    "def get_grade2 (score) :\n",
    "    if score >= 60 :\n",
    "        return \"D\"\n",
    "    elif score >= 70 :\n",
    "        return \"C\"\n",
    "    elif score >= 80 :\n",
    "        return \"B\"\n",
    "    elif score >= 90 :\n",
    "        return \"A\"\n",
    "    else :\n",
    "        return \"F\"\n",
    "    \n",
    "print(get_grade2(85))\n"
   ]
  }
 ],
 "metadata": {
  "kernelspec": {
   "display_name": "Python 3",
   "language": "python",
   "name": "python3"
  },
  "language_info": {
   "codemirror_mode": {
    "name": "ipython",
    "version": 3
   },
   "file_extension": ".py",
   "mimetype": "text/x-python",
   "name": "python",
   "nbconvert_exporter": "python",
   "pygments_lexer": "ipython3",
   "version": "3.11.4"
  }
 },
 "nbformat": 4,
 "nbformat_minor": 2
}
