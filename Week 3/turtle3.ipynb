{
 "cells": [
  {
   "cell_type": "code",
   "execution_count": 1,
   "metadata": {},
   "outputs": [],
   "source": [
    "import turtle #Inside_Out\n",
    "wn = turtle.Screen()\n",
    "wn.bgcolor(\"light green\")\n",
    "skk = turtle.Turtle()\n",
    "skk.color(\"blue\")\n",
    "\n",
    "def sqrfunc(size):\n",
    "\tfor i in range(4):\n",
    "\t\tskk.fd(size)\n",
    "\t\tskk.left(90)\n",
    "\t\tsize = size + 5\n",
    "\n",
    "\n",
    "sqrfunc(6)\n",
    "sqrfunc(26)\n",
    "sqrfunc(46)\n",
    "sqrfunc(66)\n",
    "sqrfunc(86)\n",
    "sqrfunc(106)\n",
    "sqrfunc(126)\n",
    "sqrfunc(146)\n"
   ]
  }
 ],
 "metadata": {
  "kernelspec": {
   "display_name": "Python 3",
   "language": "python",
   "name": "python3"
  },
  "language_info": {
   "codemirror_mode": {
    "name": "ipython",
    "version": 3
   },
   "file_extension": ".py",
   "mimetype": "text/x-python",
   "name": "python",
   "nbconvert_exporter": "python",
   "pygments_lexer": "ipython3",
   "version": "3.11.4"
  }
 },
 "nbformat": 4,
 "nbformat_minor": 2
}
