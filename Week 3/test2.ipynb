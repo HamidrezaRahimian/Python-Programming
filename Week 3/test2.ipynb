{
 "cells": [
  {
   "cell_type": "code",
   "execution_count": 32,
   "metadata": {},
   "outputs": [
    {
     "name": "stdout",
     "output_type": "stream",
     "text": [
      "hello love\n",
      "0 :X\n",
      "1 :X\n",
      "2 :X\n",
      "3 :X\n",
      "X\n",
      "\n",
      "\n",
      "X\n",
      "XX\n",
      "XXX\n",
      "XXXX\n",
      "we need some place here\n",
      "X X X X \n",
      "X X X X \n",
      "X X X X \n",
      "X X X X \n"
     ]
    }
   ],
   "source": [
    "print (\"hello love\")\n",
    "\n",
    "for i in range(4):\n",
    "    print(i ,\":X\")\n",
    "print(\"X\")\n",
    "print(\"\");print(\"\")\n",
    "\n",
    "\n",
    "#how to draw with range and for in python Alex please do some training thanks\n",
    "\n",
    "#Draw a triangle\n",
    "def triangle(height):\n",
    "    for i in range(height):\n",
    "        for j in range ( i + 1):\n",
    "            print(\"X\" , end=\"\")\n",
    "        print(\"\")\n",
    "    \n",
    "height = int(input(\"please enter height of triangle my love\"))\n",
    "triangle(height)\n",
    "\n",
    "print(\"\")\n",
    "\n",
    "\n",
    "#Draw a Square\n",
    "\n",
    "\n",
    "def draw_square(side_length):\n",
    "    for i in range(side_length):\n",
    "        for j in range(side_length):\n",
    "            print(\"X\", end=\" \")\n",
    "        print()\n",
    "\n",
    "# Change the value of 'side_length' to adjust the size of the square\n",
    "side_length = int(input(\"Enter the side length of the square: \"))\n",
    "draw_square(side_length)\n"
   ]
  },
  {
   "cell_type": "code",
   "execution_count": null,
   "metadata": {},
   "outputs": [],
   "source": []
  }
 ],
 "metadata": {
  "kernelspec": {
   "display_name": "Python 3",
   "language": "python",
   "name": "python3"
  },
  "language_info": {
   "codemirror_mode": {
    "name": "ipython",
    "version": 3
   },
   "file_extension": ".py",
   "mimetype": "text/x-python",
   "name": "python",
   "nbconvert_exporter": "python",
   "pygments_lexer": "ipython3",
   "version": "3.11.4"
  }
 },
 "nbformat": 4,
 "nbformat_minor": 2
}
