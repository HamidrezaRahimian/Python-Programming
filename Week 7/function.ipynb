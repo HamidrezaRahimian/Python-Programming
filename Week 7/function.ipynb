{
 "cells": [
  {
   "cell_type": "code",
   "execution_count": 11,
   "metadata": {},
   "outputs": [
    {
     "name": "stdout",
     "output_type": "stream",
     "text": [
      "Alex Rahimian\n",
      "Hamid Rahimian\n",
      "________________________________\n",
      "mamal khan\n",
      "________________________________\n",
      "The youngest child is Linus\n"
     ]
    }
   ],
   "source": [
    "def my_funciton (fname):\n",
    "    print(fname + \" Rahimian\")\n",
    "\n",
    "my_funciton(\"Alex\")\n",
    "my_funciton(\"Hamid\")\n",
    "print(\"________________________________\")\n",
    "#\n",
    "\n",
    "def fandl_function(fname,lname):\n",
    "    print(fname + \" \"+ lname)\n",
    "\n",
    "fandl_function(\"mamal\",\"khan\")\n",
    "print(\"________________________________\")\n",
    "#\n",
    "def my_kid_function(*kids):\n",
    "  print(\"The youngest child is \" + kids[2])\n",
    "\n",
    "my_kid_function(\"Emil\", \"Tobias\", \"Linus\",\"Alex\")\n",
    "print(\"________________________________\")\n",
    "#\n"
   ]
  }
 ],
 "metadata": {
  "kernelspec": {
   "display_name": "Python 3",
   "language": "python",
   "name": "python3"
  },
  "language_info": {
   "codemirror_mode": {
    "name": "ipython",
    "version": 3
   },
   "file_extension": ".py",
   "mimetype": "text/x-python",
   "name": "python",
   "nbconvert_exporter": "python",
   "pygments_lexer": "ipython3",
   "version": "3.11.4"
  }
 },
 "nbformat": 4,
 "nbformat_minor": 2
}
