{
 "cells": [
  {
   "cell_type": "code",
   "execution_count": 15,
   "metadata": {},
   "outputs": [
    {
     "name": "stdout",
     "output_type": "stream",
     "text": [
      "0\n",
      "1\n",
      "1\n",
      "2\n",
      "3\n",
      "5\n"
     ]
    }
   ],
   "source": [
    "defaultdict =  __import__('collections').defaultdict\n",
    "count = defaultdict(int) #Hashtable,keys are anything\n",
    "\n",
    "\n",
    "\n",
    "def fibonacci_of(n):\n",
    "    if n == 0:\n",
    "         return 0 \n",
    "    if n == 1:\n",
    "         return 1\n",
    "    return fibonacci_of(n-1) + fibonacci_of(n-2)\n",
    "\n",
    "#result = fibonacci_of(2)\n",
    "#print(result)\n",
    "\n",
    "for n in range (6):\n",
    "    print(fibonacci_of(n))\n",
    "\n",
    "\n"
   ]
  }
 ],
 "metadata": {
  "kernelspec": {
   "display_name": "Python 3",
   "language": "python",
   "name": "python3"
  },
  "language_info": {
   "codemirror_mode": {
    "name": "ipython",
    "version": 3
   },
   "file_extension": ".py",
   "mimetype": "text/x-python",
   "name": "python",
   "nbconvert_exporter": "python",
   "pygments_lexer": "ipython3",
   "version": "3.11.4"
  }
 },
 "nbformat": 4,
 "nbformat_minor": 2
}
