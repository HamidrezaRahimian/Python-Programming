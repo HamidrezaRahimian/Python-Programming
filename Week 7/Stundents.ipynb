{
 "cells": [
  {
   "cell_type": "code",
   "execution_count": 31,
   "metadata": {},
   "outputs": [
    {
     "name": "stdout",
     "output_type": "stream",
     "text": [
      "<bound method Provider.name of <faker.providers.person.en_US.Provider object at 0x000001DFE8906D50>>\n",
      "[{'name': 'Joshua Fletcher', 'age': 20, 'major': 'medicine', 'gpa': 2.6, 'isinternational': 'True'}, {'name': 'James Robinson', 'age': 18, 'major': 'medicine', 'gpa': 3.17, 'isinternational': 'True'}, {'name': 'Daniel Clark', 'age': 24, 'major': 'computer science', 'gpa': 2.83, 'isinternational': 'False'}, {'name': 'Amanda Brown', 'age': 20, 'major': 'medicine', 'gpa': 2.12, 'isinternational': 'False'}, {'name': 'Dr. Robert Jones', 'age': 24, 'major': 'medicine', 'gpa': 3.59, 'isinternational': 'True'}, {'name': 'Samantha Fields', 'age': 19, 'major': 'medicine', 'gpa': 2.32, 'isinternational': 'True'}, {'name': 'David Brooks', 'age': 22, 'major': 'international bussiness', 'gpa': 3.64, 'isinternational': 'False'}, {'name': 'Stephanie Blair DDS', 'age': 24, 'major': 'computer science', 'gpa': 3.38, 'isinternational': 'True'}, {'name': 'Steven Willis', 'age': 22, 'major': 'medicine', 'gpa': 2.07, 'isinternational': 'False'}, {'name': 'Timothy Rowe', 'age': 24, 'major': 'medicine', 'gpa': 2.26, 'isinternational': 'True'}]\n"
     ]
    }
   ],
   "source": [
    "#Generate 10 students (or 100 or 1000)\n",
    "#Show that you can access and print student information\n",
    "#Put all first names of students in a list\n",
    "#Use sets to find out whether there are duplicates in one line of code. \n",
    "#If there are duplicates,  print out which ones are duplicated. For example if the list of first names is the following, it should print out the duplicates like this:\n",
    "#['John', 'Jane', 'John', 'Alice', 'Bob', 'Jane']\n",
    "#{'Jane': 2, 'John': 2}\n",
    "\n",
    "from faker import Faker\n",
    "import random\n",
    "\n",
    "fake = Faker()\n",
    "print(fake.name)\n",
    "\n",
    "students = []\n",
    "\n",
    "for _ in range (10):\n",
    "    student = {\n",
    "        \"name\": fake.name() ,\n",
    "        \"age\": random.randint(18 , 25),\n",
    "        \"major\": random.choice([\"computer science\" , \"international bussiness\" , \"medicine\"]),\n",
    "        \"gpa\":round(random.uniform(2.0 , 4.0),2) ,\n",
    "        \"isinternational\": random.choice([\"True\",\"False\"]),\n",
    "    }\n",
    "    students.append(student)\n",
    "\n",
    "print(students)"
   ]
  }
 ],
 "metadata": {
  "kernelspec": {
   "display_name": "Python 3",
   "language": "python",
   "name": "python3"
  },
  "language_info": {
   "codemirror_mode": {
    "name": "ipython",
    "version": 3
   },
   "file_extension": ".py",
   "mimetype": "text/x-python",
   "name": "python",
   "nbconvert_exporter": "python",
   "pygments_lexer": "ipython3",
   "version": "3.11.4"
  }
 },
 "nbformat": 4,
 "nbformat_minor": 2
}
