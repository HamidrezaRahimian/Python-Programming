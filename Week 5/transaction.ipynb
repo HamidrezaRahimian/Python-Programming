{
 "cells": [
  {
   "cell_type": "code",
   "execution_count": 3,
   "metadata": {},
   "outputs": [
    {
     "name": "stdout",
     "output_type": "stream",
     "text": [
      "[450, 60, 72]\n"
     ]
    }
   ],
   "source": [
    "thislist = [\"transaction1\", \"transaction2\", \"transaction3\"]\n",
    "\n",
    "\n",
    "transaction1 = {\n",
    "\"type\": \"Purchase\",\n",
    "\"amount\": 8500,\n",
    "}\n",
    "transaction2 = {\n",
    "\"type\": \"Sale\",\n",
    "\"amount\": 300,\n",
    "}\n",
    "transaction3 = {\n",
    "\"type\": \"Purchase\",\n",
    "\"amount\": 79,\n",
    "}\n",
    "\n",
    "x = len(thislist)\n",
    "\n",
    "#print(x , \"transactions has been done\")\n",
    "\n",
    "\n",
    "totalamount = transaction1.get(\"amount\")\n",
    "\n",
    "\n",
    "#print(\"the total amount of all transactions is\" , totalamount)\n",
    "\n",
    "\n",
    "#####''''''''''''''''''''''''''''''''''''''''''''''''''''''''''''''''''''''''''''''\n",
    "transactions =[\n",
    "{'type': 'Purchase' , 'amount': 450 , 'date': 15-01.2024},\n",
    "{'type': 'Sale' , 'amount': 60 , 'date': 14-01.2024},\n",
    "{'type': 'Purchase' , 'amount': 72 , 'date': 14-01.2024},\n",
    "]\n",
    "\n",
    "transaction_type = transactions[0]['type']\n",
    "transaction_amount = transactions[0]['amount']\n",
    "transaction_date = transactions[0]['date']\n",
    "\n",
    "def list_of(my_key):\n",
    "    amount_values = [transaction[my_key] for transaction in transactions]\n",
    "    return (amount_values)\n",
    "\n",
    "print(list_of('amount'))\n",
    "\n",
    "\n",
    "\n",
    "#def is_valid_date_format()\n",
    "\n",
    "\n",
    "\n",
    "\n",
    "def sum_it_up_baby (my_type):\n",
    "    amount_values = [transaction['amount'] for transaction in transactions if transactio['type'] == my_type]\n",
    "    return(sum(amount_values))\n",
    "\n",
    "income = sum_it_up_baby ('purchase')\n",
    "losts = sum_it_up_baby ('sale')\n"
   ]
  }
 ],
 "metadata": {
  "kernelspec": {
   "display_name": "Python 3",
   "language": "python",
   "name": "python3"
  },
  "language_info": {
   "codemirror_mode": {
    "name": "ipython",
    "version": 3
   },
   "file_extension": ".py",
   "mimetype": "text/x-python",
   "name": "python",
   "nbconvert_exporter": "python",
   "pygments_lexer": "ipython3",
   "version": "3.11.4"
  }
 },
 "nbformat": 4,
 "nbformat_minor": 2
}
