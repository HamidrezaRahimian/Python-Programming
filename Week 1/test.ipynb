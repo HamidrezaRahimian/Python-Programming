{
 "cells": [
  {
   "cell_type": "code",
   "execution_count": 7,
   "metadata": {},
   "outputs": [
    {
     "name": "stdout",
     "output_type": "stream",
     "text": [
      "Let me tell you a joke:\n",
      "Why do programmers prefer dark mode? Because light attracts bugs!\n"
     ]
    }
   ],
   "source": [
    "import random\n",
    "\n",
    "def tell_a_joke():\n",
    "    jokes = [\n",
    "        \"Why do programmers prefer dark mode? Because light attracts bugs!\",\n",
    "        \"Why do Python programmers prefer dark chocolate? Because it's bitter.\",\n",
    "    ]\n",
    "\n",
    "    return random.choice(jokes)\n",
    "\n",
    "if __name__ == \"__main__\":\n",
    "    print(\"Let me tell you a joke:\")\n",
    "    joke = tell_a_joke()\n",
    "    print(joke)\n"
   ]
  }
 ],
 "metadata": {
  "kernelspec": {
   "display_name": "Python 3",
   "language": "python",
   "name": "python3"
  },
  "language_info": {
   "codemirror_mode": {
    "name": "ipython",
    "version": 3
   },
   "file_extension": ".py",
   "mimetype": "text/x-python",
   "name": "python",
   "nbconvert_exporter": "python",
   "pygments_lexer": "ipython3",
   "version": "3.11.4"
  }
 },
 "nbformat": 4,
 "nbformat_minor": 2
}
